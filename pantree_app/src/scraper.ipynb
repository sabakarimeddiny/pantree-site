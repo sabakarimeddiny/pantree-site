{
 "cells": [
  {
   "cell_type": "code",
   "execution_count": 15,
   "id": "e8df9b9b-8fc3-4cbc-8028-17aa7b50a856",
   "metadata": {},
   "outputs": [],
   "source": [
    "from pantree.panTree import panTree\n",
    "from pantree.recipe import recipeDB\n",
    "\n",
    "from pantree.domains.ba import bonAppetit\n",
    "from pantree.domains.epi import epicurious\n",
    "from pantree.domains.nyt import NYT\n",
    "from pantree.domains.srs_eats import srsEats\n",
    "from pantree.domains.food_network import foodNetwork\n",
    "from pantree.domains.all_recipes import allRecipes\n",
    "from pantree.domains.food52 import food52\n",
    "from pantree.domains.simply_recipes import simplyRecipes\n",
    "from pantree.domains.liquor import Liquor\n"
   ]
  },
  {
   "cell_type": "code",
   "execution_count": 16,
   "id": "72ad8a4a-8a81-4827-9eb2-25b7f22007ad",
   "metadata": {},
   "outputs": [],
   "source": [
    "import signal\n",
    "from contextlib import contextmanager\n",
    "\n",
    "class TimeoutException(Exception): pass\n",
    "\n",
    "@contextmanager\n",
    "def time_limit(seconds):\n",
    "    def signal_handler(signum, frame):\n",
    "        raise TimeoutException(\"Timed out!\")\n",
    "    signal.signal(signal.SIGALRM, signal_handler)\n",
    "    signal.alarm(seconds)\n",
    "    try:\n",
    "        yield\n",
    "    finally:\n",
    "        signal.alarm(0)"
   ]
  },
  {
   "cell_type": "code",
   "execution_count": 17,
   "id": "959cf4f4-5e7c-4343-908d-3630470ec465",
   "metadata": {},
   "outputs": [],
   "source": [
    "db = './data/recipeDB.db'"
   ]
  },
  {
   "cell_type": "code",
   "execution_count": 18,
   "id": "cba7f684-cf5e-4541-a657-214fd3eda0ea",
   "metadata": {},
   "outputs": [],
   "source": [
    "r = recipeDB(db)\n",
    "# r.create_table()\n",
    "# r.clear()\n",
    "# r.save()\n",
    "# r.close()"
   ]
  },
  {
   "cell_type": "code",
   "execution_count": 23,
   "id": "5803f060-3b65-4823-ad8e-76d0ae746cda",
   "metadata": {
    "tags": []
   },
   "outputs": [
    {
     "data": {
      "text/plain": [
       "11587"
      ]
     },
     "execution_count": 23,
     "metadata": {},
     "output_type": "execute_result"
    }
   ],
   "source": [
    "r.count()"
   ]
  },
  {
   "cell_type": "code",
   "execution_count": null,
   "id": "43f46493-bcd6-4d7c-9c7e-e066a6ce366b",
   "metadata": {},
   "outputs": [],
   "source": []
  },
  {
   "cell_type": "code",
   "execution_count": null,
   "id": "2dd457b9-a48a-497a-9b60-d490fc06b420",
   "metadata": {},
   "outputs": [
    {
     "name": "stdout",
     "output_type": "stream",
     "text": [
      "<pantree.domains.liquor.Liquor object at 0x7fbdc83fbc70> 11587\n",
      "<pantree.domains.ba.bonAppetit object at 0x7fbd78d1a160> 11588\n",
      "<pantree.domains.epi.epicurious object at 0x7fbd9ac861f0> 11589\n",
      "Moving on\n",
      "<pantree.domains.nyt.NYT object at 0x7fbdaa1e3910> 11695\n",
      "Moving on\n",
      "<pantree.domains.srs_eats.srsEats object at 0x7fbd9ac860d0> 11773\n"
     ]
    }
   ],
   "source": [
    "domains =[bonAppetit(db), epicurious(db), NYT(db), srsEats(db),allRecipes(db),food52(db),simplyRecipes(db)]\n",
    "domains = [Liquor(db),bonAppetit(db), epicurious(db), NYT(db), srsEats(db),allRecipes(db),food52(db),simplyRecipes(db)]\n",
    "for d in domains:\n",
    "    try:\n",
    "        with time_limit(3600):\n",
    "            d.scrape(depth = 3)\n",
    "    except TimeoutException as e:\n",
    "        print(\"Moving on\")\n",
    "    print(d, r.count())\n",
    "    \n",
    "# for d in domains:\n",
    "#     d.scrape(depth = 1)\n",
    "#     print(d, r.count())"
   ]
  },
  {
   "cell_type": "code",
   "execution_count": null,
   "id": "d02843af-66fe-4d27-b0e4-f4c791852c9e",
   "metadata": {},
   "outputs": [],
   "source": [
    "p = panTree(['green beans'],[''],db=db)\n",
    "p.rank"
   ]
  },
  {
   "cell_type": "code",
   "execution_count": null,
   "id": "a3ab15dd-b062-41aa-970e-fb84f68d0b5f",
   "metadata": {},
   "outputs": [],
   "source": []
  }
 ],
 "metadata": {
  "kernelspec": {
   "display_name": "Python 3 (ipykernel)",
   "language": "python",
   "name": "python3"
  },
  "language_info": {
   "codemirror_mode": {
    "name": "ipython",
    "version": 3
   },
   "file_extension": ".py",
   "mimetype": "text/x-python",
   "name": "python",
   "nbconvert_exporter": "python",
   "pygments_lexer": "ipython3",
   "version": "3.9.7"
  }
 },
 "nbformat": 4,
 "nbformat_minor": 5
}
