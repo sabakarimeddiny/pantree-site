{
 "cells": [
  {
   "cell_type": "code",
   "execution_count": 49,
   "id": "bf3afbf7-e4cd-4a27-9df1-4467880d6e7f",
   "metadata": {},
   "outputs": [],
   "source": [
    "tot = 1/100\n",
    "for i in enumerate(list(range(1,101))[::-1]:\n",
    "    tot = tot["
   ]
  },
  {
   "cell_type": "code",
   "execution_count": 41,
   "id": "a55ea581-4639-4ec9-ab19-0b71b222c3a6",
   "metadata": {},
   "outputs": [],
   "source": [
    "import sqlite3"
   ]
  },
  {
   "cell_type": "code",
   "execution_count": 40,
   "id": "959cf4f4-5e7c-4343-908d-3630470ec465",
   "metadata": {},
   "outputs": [
    {
     "name": "stdout",
     "output_type": "stream",
     "text": [
      "nytimes : 18461\n",
      "bonappetit : 8963\n",
      "epicurious : 22271\n",
      "food52 : 22997\n",
      "seriouseats : 2006\n",
      "liquor : 5567\n",
      "allrecipes : 18214\n",
      "smittenkitchen : 362\n",
      "foodandwine : 5490\n",
      "delish : 3114\n",
      "total :  107443\n"
     ]
    }
   ],
   "source": [
    "db = './scrapedata.db'\n",
    "con = sqlite3.connect(db)\n",
    "cur = con.cursor()\n",
    "for d in [\"nytimes\", \"bonappetit\", \"epicurious\", \"food52\", \"seriouseats\", \n",
    "          \"liquor\", \"allrecipes\", \"smittenkitchen\", \"foodandwine\", \"delish\"]:\n",
    "    cur.execute(\"SELECT Count() FROM recipes WHERE url LIKE ? \", ('%'+d+'%',))\n",
    "    print(d, ':', cur.fetchone()[0])\n",
    "print(\"total : \", cur.execute(\"SELECT Count() FROM recipes\").fetchone()[0])"
   ]
  },
  {
   "cell_type": "code",
   "execution_count": 5,
   "id": "3fb81b08-9026-4e26-baae-dc19d1483a70",
   "metadata": {},
   "outputs": [],
   "source": [
    "# cur.execute(\"SELECT title, img, url FROM recipes WHERE ingredients MATCH '%mayo% AND \"\n",
    "#  \"(mayo)' ORDER BY bm25(recipes)\").fetchall()\n",
    "# con.commit()"
   ]
  },
  {
   "cell_type": "code",
   "execution_count": 60,
   "id": "f44b62a9-dbc0-4f14-a9f1-229c94c6685b",
   "metadata": {},
   "outputs": [
    {
     "name": "stdout",
     "output_type": "stream",
     "text": [
      "CPU times: user 2 µs, sys: 1 µs, total: 3 µs\n",
      "Wall time: 5.01 µs\n",
      "1\n",
      "2\n",
      "Crackle\n",
      "4\n",
      "Pop\n",
      "Crackle\n",
      "7\n",
      "8\n",
      "Crackle\n",
      "Pop\n",
      "11\n",
      "Crackle\n",
      "13\n",
      "14\n",
      "CracklePop\n",
      "16\n",
      "17\n",
      "Crackle\n",
      "19\n",
      "Pop\n",
      "Crackle\n",
      "22\n",
      "23\n",
      "Crackle\n",
      "Pop\n",
      "26\n",
      "Crackle\n",
      "28\n",
      "29\n",
      "CracklePop\n",
      "31\n",
      "32\n",
      "Crackle\n",
      "34\n",
      "Pop\n",
      "Crackle\n",
      "37\n",
      "38\n",
      "Crackle\n",
      "Pop\n",
      "41\n",
      "Crackle\n",
      "43\n",
      "44\n",
      "CracklePop\n",
      "46\n",
      "47\n",
      "Crackle\n",
      "49\n",
      "Pop\n",
      "Crackle\n",
      "52\n",
      "53\n",
      "Crackle\n",
      "Pop\n",
      "56\n",
      "Crackle\n",
      "58\n",
      "59\n",
      "CracklePop\n",
      "61\n",
      "62\n",
      "Crackle\n",
      "64\n",
      "Pop\n",
      "Crackle\n",
      "67\n",
      "68\n",
      "Crackle\n",
      "Pop\n",
      "71\n",
      "Crackle\n",
      "73\n",
      "74\n",
      "CracklePop\n",
      "76\n",
      "77\n",
      "Crackle\n",
      "79\n",
      "Pop\n",
      "Crackle\n",
      "82\n",
      "83\n",
      "Crackle\n",
      "Pop\n",
      "86\n",
      "Crackle\n",
      "88\n",
      "89\n",
      "CracklePop\n",
      "91\n",
      "92\n",
      "Crackle\n",
      "94\n",
      "Pop\n",
      "Crackle\n",
      "97\n",
      "98\n",
      "Crackle\n",
      "Pop\n"
     ]
    }
   ],
   "source": [
    "%time\n",
    "for i in range(1,101):\n",
    "    if i % 5 ==0 and i % 3 == 0:\n",
    "        print(\"CracklePop\")\n",
    "    elif i % 3 == 0:\n",
    "        print(\"Crackle\")\n",
    "    elif i % 5 == 0:\n",
    "        print(\"Pop\")\n",
    "    else:\n",
    "        print(i)"
   ]
  },
  {
   "cell_type": "code",
   "execution_count": null,
   "id": "d6546f8f-3a9f-4206-81d3-9313cd0f3ace",
   "metadata": {},
   "outputs": [],
   "source": []
  },
  {
   "cell_type": "code",
   "execution_count": null,
   "id": "adca5125-84a5-4de9-b42b-7e6f73e73ddd",
   "metadata": {},
   "outputs": [],
   "source": []
  },
  {
   "cell_type": "code",
   "execution_count": null,
   "id": "8f0bfdb6-21c3-4877-bc32-f4de5701741b",
   "metadata": {},
   "outputs": [],
   "source": []
  },
  {
   "cell_type": "code",
   "execution_count": 20,
   "id": "aa63a669-aff3-4279-93ff-94b2a1437e21",
   "metadata": {},
   "outputs": [],
   "source": [
    "# db = './test.db'\n",
    "# con = sqlite3.connect(db)\n",
    "# cur = con.cursor()\n",
    "# cur.execute(\"CREATE VIRTUAL TABLE IF NOT EXISTS recipes USING FTS5(title, img, url, ingredients)\")\n",
    "# db2 = './scrapedata.db'\n",
    "# con2 = sqlite3.connect(db2)\n",
    "# cur2 = con2.cursor()\n",
    "# for i in cur2.execute(\"SELECT * from recipes\").fetchall():\n",
    "#     cur.execute(\"INSERT INTO recipes VALUES (?, ?, ?, ?)\", \n",
    "#             (i[0],i[1],i[2],i[3]))"
   ]
  },
  {
   "cell_type": "code",
   "execution_count": null,
   "id": "fe67899d-63ea-4b3b-91f4-1fb34878553c",
   "metadata": {},
   "outputs": [],
   "source": []
  }
 ],
 "metadata": {
  "kernelspec": {
   "display_name": "Python 3 (ipykernel)",
   "language": "python",
   "name": "python3"
  },
  "language_info": {
   "codemirror_mode": {
    "name": "ipython",
    "version": 3
   },
   "file_extension": ".py",
   "mimetype": "text/x-python",
   "name": "python",
   "nbconvert_exporter": "python",
   "pygments_lexer": "ipython3",
   "version": "3.9.7"
  }
 },
 "nbformat": 4,
 "nbformat_minor": 5
}
