{
 "cells": [
  {
   "cell_type": "code",
   "execution_count": 40,
   "id": "a55ea581-4639-4ec9-ab19-0b71b222c3a6",
   "metadata": {},
   "outputs": [],
   "source": [
    "import sqlite3"
   ]
  },
  {
   "cell_type": "code",
   "execution_count": null,
   "id": "959cf4f4-5e7c-4343-908d-3630470ec465",
   "metadata": {},
   "outputs": [],
   "source": [
    "db = './scrapedata.db'\n",
    "con = sqlite3.connect(db)\n",
    "cur = con.cursor()\n",
    "for d in [\"nytimes\", \"bonappetit\", \"epicurious\", \"food52\", \"seriouseats\", \"liquor\", \"allrecipes\"]:\n",
    "    cur.execute(\"SELECT Count() FROM recipes WHERE url LIKE ? \", ('%'+d+'%',))\n",
    "    print(d, ':', cur.fetchone()[0])\n",
    "print(\"total : \", cur.execute(\"SELECT Count() FROM recipes\").fetchone()[0])\n"
   ]
  },
  {
   "cell_type": "code",
   "execution_count": null,
   "id": "a2a58182-7b9a-4c42-8923-0e37ed78f5c6",
   "metadata": {},
   "outputs": [],
   "source": []
  }
 ],
 "metadata": {
  "kernelspec": {
   "display_name": "Python 3 (ipykernel)",
   "language": "python",
   "name": "python3"
  },
  "language_info": {
   "codemirror_mode": {
    "name": "ipython",
    "version": 3
   },
   "file_extension": ".py",
   "mimetype": "text/x-python",
   "name": "python",
   "nbconvert_exporter": "python",
   "pygments_lexer": "ipython3",
   "version": "3.9.7"
  }
 },
 "nbformat": 4,
 "nbformat_minor": 5
}
