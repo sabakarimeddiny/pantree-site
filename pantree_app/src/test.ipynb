{
 "cells": [
  {
   "cell_type": "code",
   "execution_count": 1,
   "id": "e8df9b9b-8fc3-4cbc-8028-17aa7b50a856",
   "metadata": {},
   "outputs": [],
   "source": [
    "from pantree.panTree import panTree\n",
    "from pantree.recipe import recipeDB\n",
    "\n",
    "from pantree.domains.ba import bonAppetit\n",
    "from pantree.domains.epi import epicurious\n",
    "from pantree.domains.nyt import NYT\n",
    "from pantree.domains.srs_eats import srsEats\n",
    "from pantree.domains.food_network import foodNetwork\n",
    "from pantree.domains.all_recipes import allRecipes\n",
    "from pantree.domains.food52 import food52"
   ]
  },
  {
   "cell_type": "code",
   "execution_count": 2,
   "id": "959cf4f4-5e7c-4343-908d-3630470ec465",
   "metadata": {},
   "outputs": [],
   "source": [
    "db = './data/recipeDB.db'"
   ]
  },
  {
   "cell_type": "code",
   "execution_count": 3,
   "id": "cba7f684-cf5e-4541-a657-214fd3eda0ea",
   "metadata": {},
   "outputs": [],
   "source": [
    "r = recipeDB(db)\n",
    "# r.create_table()\n",
    "# r.clear()\n",
    "# r.save()\n",
    "# r.close()"
   ]
  },
  {
   "cell_type": "code",
   "execution_count": 4,
   "id": "5803f060-3b65-4823-ad8e-76d0ae746cda",
   "metadata": {
    "tags": []
   },
   "outputs": [
    {
     "data": {
      "text/plain": [
       "86"
      ]
     },
     "execution_count": 4,
     "metadata": {},
     "output_type": "execute_result"
    }
   ],
   "source": [
    "r.count()"
   ]
  },
  {
   "cell_type": "code",
   "execution_count": null,
   "id": "2dd457b9-a48a-497a-9b60-d490fc06b420",
   "metadata": {},
   "outputs": [],
   "source": [
    "domains =[srsEats(db),foodNetwork(db),allRecipes(db),food52(db)]\n",
    "for d in domains:\n",
    "    d.scrape(depth = 2)\n",
    "    print(d, r.count())"
   ]
  },
  {
   "cell_type": "code",
   "execution_count": 15,
   "id": "d02843af-66fe-4d27-b0e4-f4c791852c9e",
   "metadata": {},
   "outputs": [
    {
     "data": {
      "text/plain": [
       "[('Sheet-Pan Corn Pizza With Kimchi and Hot Dogs',\n",
       "  'https://assets.bonappetit.com/photos/62d1ddb804bf7c46ad60486a/16:9/w_1280,c_limit/0715-bacon-kimchi-pizza-cooking-lede.jpg',\n",
       "  'https://www.bonappetit.com/recipe/corn-pizza-kimchi-hotdogs-sheet-pan-recipe')]"
      ]
     },
     "execution_count": 15,
     "metadata": {},
     "output_type": "execute_result"
    }
   ],
   "source": [
    "p = panTree(['scallion'],[''],db=db)\n",
    "p.rank"
   ]
  },
  {
   "cell_type": "code",
   "execution_count": null,
   "id": "a3ab15dd-b062-41aa-970e-fb84f68d0b5f",
   "metadata": {},
   "outputs": [],
   "source": []
  }
 ],
 "metadata": {
  "kernelspec": {
   "display_name": "Python 3 (ipykernel)",
   "language": "python",
   "name": "python3"
  },
  "language_info": {
   "codemirror_mode": {
    "name": "ipython",
    "version": 3
   },
   "file_extension": ".py",
   "mimetype": "text/x-python",
   "name": "python",
   "nbconvert_exporter": "python",
   "pygments_lexer": "ipython3",
   "version": "3.9.7"
  }
 },
 "nbformat": 4,
 "nbformat_minor": 5
}
