{
 "cells": [
  {
   "cell_type": "code",
   "execution_count": 1,
   "id": "e8df9b9b-8fc3-4cbc-8028-17aa7b50a856",
   "metadata": {},
   "outputs": [],
   "source": [
    "from pantree.panTree import panTree\n",
    "from pantree.recipe import recipeDB\n",
    "\n",
    "from pantree.domains.ba import bonAppetit\n",
    "from pantree.domains.epi import epicurious\n",
    "from pantree.domains.nyt import NYT\n",
    "from pantree.domains.srs_eats import srsEats\n",
    "from pantree.domains.food_network import foodNetwork\n",
    "from pantree.domains.all_recipes import allRecipes\n",
    "from pantree.domains.food52 import food52"
   ]
  },
  {
   "cell_type": "code",
   "execution_count": 2,
   "id": "959cf4f4-5e7c-4343-908d-3630470ec465",
   "metadata": {},
   "outputs": [],
   "source": [
    "db = './data/recipeDB.db'"
   ]
  },
  {
   "cell_type": "code",
   "execution_count": 3,
   "id": "cba7f684-cf5e-4541-a657-214fd3eda0ea",
   "metadata": {},
   "outputs": [],
   "source": [
    "r = recipeDB(db)\n",
    "# r.create_table()\n",
    "# r.clear()\n",
    "# r.save()\n",
    "# r.close()"
   ]
  },
  {
   "cell_type": "code",
   "execution_count": null,
   "id": "2dd457b9-a48a-497a-9b60-d490fc06b420",
   "metadata": {},
   "outputs": [
    {
     "name": "stdout",
     "output_type": "stream",
     "text": [
      "<pantree.domains.food52.food52 object at 0x7ff189705700> 22\n",
      "<pantree.domains.ba.bonAppetit object at 0x7ff181af2280> 37\n",
      "<pantree.domains.epi.epicurious object at 0x7ff16838d610> 43\n",
      "<pantree.domains.nyt.NYT object at 0x7ff181af2a60> 47\n",
      "<pantree.domains.srs_eats.srsEats object at 0x7ff198273c70> 57\n"
     ]
    }
   ],
   "source": [
    "domains =[food52(db), bonAppetit(db), epicurious(db), NYT(db), srsEats(db), foodNetwork(db), allRecipes(db)]\n",
    "\n",
    "for d in domains:\n",
    "    print(d, d.db.count())\n",
    "    d.scrape(depth = 0)"
   ]
  },
  {
   "cell_type": "code",
   "execution_count": 8,
   "id": "51d76dae-3984-44c9-befe-7ecb85d0f6f1",
   "metadata": {},
   "outputs": [],
   "source": [
    "d.db.get_ingredients()\n",
    "d.db.serialize('./data/bank')"
   ]
  },
  {
   "cell_type": "code",
   "execution_count": 9,
   "id": "1a0c427a-3425-4629-884e-741890d46716",
   "metadata": {},
   "outputs": [
    {
     "data": {
      "text/plain": [
       "699"
      ]
     },
     "execution_count": 9,
     "metadata": {},
     "output_type": "execute_result"
    }
   ],
   "source": [
    "d.db.count()"
   ]
  },
  {
   "cell_type": "code",
   "execution_count": 11,
   "id": "d02843af-66fe-4d27-b0e4-f4c791852c9e",
   "metadata": {},
   "outputs": [
    {
     "data": {
      "text/plain": [
       "['https://www.allrecipes.com/recipe/8399698/two-ingredient-dough-cinnamon-rolls/',\n",
       " 'https://www.seriouseats.com/choux-pastry',\n",
       " 'https://www.allrecipes.com/recipe/9870/easy-sugar-cookies/',\n",
       " 'https://www.allrecipes.com/recipe/45396/easy-pancakes/',\n",
       " 'https://www.allrecipes.com/recipe/216391/easy-sausage-gravy-and-biscuits/',\n",
       " 'https://www.allrecipes.com/recipe/16383/basic-crepes/',\n",
       " 'https://cooking.nytimes.com/recipes/1023312-kimchi-cheddar-biscuits',\n",
       " 'https://cooking.nytimes.com/recipes/1021241-extra-flaky-pie-crust',\n",
       " 'https://www.seriouseats.com/taiwan-eats-taiwanese-pineapple-cake-fung-li-su-recipe',\n",
       " 'https://www.seriouseats.com/perfect-pita-bread-recipe',\n",
       " 'https://www.seriouseats.com/classic-tarte-flambee-alsatian-pizza-recipe',\n",
       " 'https://www.epicurious.com/recipes/food/views/fudgy-brownies',\n",
       " 'https://www.epicurious.com/recipes/food/views/fraisier-strawberry-cream-cake',\n",
       " 'https://www.allrecipes.com/recipe/6865/to-die-for-blueberry-muffins/',\n",
       " 'https://www.allrecipes.com/recipe/280368/grandmas-lemon-chicken/',\n",
       " 'https://www.allrecipes.com/recipe/241707/joys-easy-banana-bread/',\n",
       " 'https://www.allrecipes.com/recipe/238691/simple-macaroni-and-cheese/',\n",
       " 'https://www.allrecipes.com/recipe/22180/waffles-i/',\n",
       " 'https://www.allrecipes.com/recipe/20513/classic-waffles/',\n",
       " 'https://www.allrecipes.com/recipe/20144/banana-banana-bread/',\n",
       " 'https://www.allrecipes.com/recipe/10549/best-brownies/',\n",
       " 'https://cooking.nytimes.com/recipes/1022442-blackberry-crisp-with-cardamom-custard-sauce',\n",
       " 'https://cooking.nytimes.com/recipes/1019977-whipped-cream-scones-with-chocolate-and-cherries',\n",
       " 'https://www.seriouseats.com/pate-sucree-tart-shell-recipe',\n",
       " 'https://www.seriouseats.com/alfajores-vanilla-shortbread-milk-toffee-caramel-recipe',\n",
       " 'https://www.bonappetit.com/recipe/honey-dunked-sfenj',\n",
       " 'https://www.allrecipes.com/recipe/255365/edible-cookie-dough/',\n",
       " 'https://www.allrecipes.com/recipe/228949/fresh-strawberry-coffee-cake/',\n",
       " 'https://www.allrecipes.com/recipe/162760/fluffy-pancakes/',\n",
       " 'https://www.allrecipes.com/recipe/11679/homemade-mac-and-cheese/',\n",
       " 'https://www.allrecipes.com/recipe/10275/classic-peanut-butter-cookies/',\n",
       " 'https://cooking.nytimes.com/recipes/2868-jordan-marshs-blueberry-muffins',\n",
       " 'https://cooking.nytimes.com/recipes/1022767-m-and-m-cookies',\n",
       " 'https://cooking.nytimes.com/recipes/1021937-potato-rolls',\n",
       " 'https://cooking.nytimes.com/recipes/1020402-sheet-pan-chocolate-chip-pancakes',\n",
       " 'https://www.epicurious.com/recipes/food/views/chocolate-chip-cookies-108703',\n",
       " 'https://www.allrecipes.com/recipe/241038/microwave-chocolate-mug-cake/',\n",
       " 'https://www.allrecipes.com/recipe/16760/best-fried-green-tomatoes/',\n",
       " 'https://cooking.nytimes.com/recipes/1023222-strawberry-sumac-cake',\n",
       " 'https://cooking.nytimes.com/recipes/1022686-blondies',\n",
       " 'https://cooking.nytimes.com/recipes/1022588-gruyere-and-black-pepper-scones',\n",
       " 'https://cooking.nytimes.com/recipes/1020851-bittersweet-brownie-shortbread',\n",
       " 'https://cooking.nytimes.com/recipes/1020323-strawberry-pretzel-pie',\n",
       " 'https://cooking.nytimes.com/recipes/1019544-maple-pecan-monkey-bread',\n",
       " 'https://www.seriouseats.com/ricotta-gnocchi-homemade-food-lab-recipe',\n",
       " 'https://www.seriouseats.com/light-and-fluffy-pancakes-recipe',\n",
       " 'https://www.bonappetit.com/recipe/oat-and-pecan-brittle-cookies',\n",
       " 'https://www.bonappetit.com/recipe/cod-with-scallion-sesame-butter',\n",
       " 'https://www.allrecipes.com/recipe/8412605/fudge-stuffed-chocolate-chip-cookies/',\n",
       " 'https://www.allrecipes.com/recipe/6698/moms-zucchini-bread/',\n",
       " 'https://www.allrecipes.com/recipe/51535/fresh-southern-peach-cobbler/',\n",
       " 'https://www.allrecipes.com/recipe/19247/soft-oatmeal-cookies/',\n",
       " 'https://cooking.nytimes.com/recipes/1022866-brookies',\n",
       " 'https://cooking.nytimes.com/recipes/1022053-croissants',\n",
       " 'https://cooking.nytimes.com/recipes/1019379-fresh-strawberry-pie',\n",
       " 'https://cooking.nytimes.com/recipes/1018364-rainbow-sprinkle-cake',\n",
       " 'https://www.epicurious.com/recipes/food/views/joconde',\n",
       " 'https://www.bonappetit.com/recipe/scallion-pancakes-2',\n",
       " 'https://www.bonappetit.com/recipe/milk-and-honey-pie',\n",
       " 'https://www.bonappetit.com/recipe/creamy-spinach-and-chickpeas',\n",
       " 'https://www.bonappetit.com/recipe/chicken-piccata-2',\n",
       " 'https://www.allrecipes.com/recipe/10813/best-chocolate-chip-cookies/',\n",
       " 'https://cooking.nytimes.com/recipes/1023304-apricot-snack-cake',\n",
       " 'https://cooking.nytimes.com/recipes/1022460-grilled-pizza',\n",
       " 'https://cooking.nytimes.com/recipes/1022439-strawberry-lemon-loaf-cake',\n",
       " 'https://cooking.nytimes.com/recipes/1022002-whole-orange-snack-cake',\n",
       " 'https://cooking.nytimes.com/recipes/1021259-apricot-upside-down-cake',\n",
       " 'https://cooking.nytimes.com/recipes/1021039-peanut-butter-brownies',\n",
       " 'https://cooking.nytimes.com/recipes/1019019-nutella-banana-bread',\n",
       " 'https://www.bonappetit.com/recipe/cheesy-tomato-hand-pies',\n",
       " 'https://www.bonappetit.com/recipe/blackberry-and-dried-apricot-slab-pie',\n",
       " 'https://www.allrecipes.com/recipe/26317/chicken-pot-pie-ix/',\n",
       " 'https://www.allrecipes.com/recipe/223042/chicken-parmesan/',\n",
       " 'https://cooking.nytimes.com/recipes/1023201-lemon-bundt-cake',\n",
       " 'https://cooking.nytimes.com/recipes/1022716-cranberry-crumb-muffins',\n",
       " 'https://cooking.nytimes.com/recipes/1022250-blueberry-poppy-seed-cake',\n",
       " 'https://cooking.nytimes.com/recipes/1021515-pumpkin-blondies-with-chocolate-and-pecans',\n",
       " 'https://cooking.nytimes.com/recipes/1019242-lemon-sweet-rolls-with-cream-cheese-icing',\n",
       " 'https://www.bonappetit.com/recipe/mac-n-cheese',\n",
       " 'https://www.bonappetit.com/recipe/crispy-olives-with-calabrian-chile-sauce',\n",
       " 'https://cooking.nytimes.com/recipes/1022493-vegan-zucchini-bread',\n",
       " 'https://cooking.nytimes.com/recipes/1022466-plum-and-frangipane-tart',\n",
       " 'https://cooking.nytimes.com/recipes/1021761-dulce-de-leche-chocoflan',\n",
       " 'https://cooking.nytimes.com/recipes/1019729-rose-apple-tart',\n",
       " 'https://www.bonappetit.com/recipe/ultra-fluffy-pumpkin-pancakes',\n",
       " 'https://www.bonappetit.com/recipe/tori-kara-age',\n",
       " 'https://www.bonappetit.com/recipe/hushpuppies',\n",
       " 'https://www.bonappetit.com/recipe/aloo-tikki-with-hari-chutney',\n",
       " 'https://cooking.nytimes.com/recipes/1023294-fried-okra-with-remoulade',\n",
       " 'https://cooking.nytimes.com/recipes/1022773-chocolate-olive-oil-cake',\n",
       " 'https://cooking.nytimes.com/recipes/1022422-texas-sheet-cake',\n",
       " 'https://cooking.nytimes.com/recipes/1020920-asparagus-goat-cheese-and-tarragon-tart',\n",
       " 'https://cooking.nytimes.com/recipes/1020775-cheesy-cornbread-muffins-with-hot-honey-butter',\n",
       " 'https://www.seriouseats.com/british-curry-sauce-recipe',\n",
       " 'https://www.bonappetit.com/recipe/strawberry-doughnut-muffins',\n",
       " 'https://www.bonappetit.com/recipe/chicken-primavera',\n",
       " 'https://cooking.nytimes.com/recipes/1021631-pumpkin-cheesecake',\n",
       " 'https://cooking.nytimes.com/recipes/1018797-strawberry-slab-pie',\n",
       " 'https://www.bonappetit.com/recipe/ginger-cardamom-zucchini-bread',\n",
       " 'https://www.bonappetit.com/recipe/chai-cake-with-brown-butter-ghee-streusel',\n",
       " 'https://www.bonappetit.com/recipe/bas-best-chicken-parm',\n",
       " 'https://cooking.nytimes.com/recipes/1022694-party-wreath',\n",
       " 'https://www.seriouseats.com/pollo-campero-fried-chicken',\n",
       " 'https://www.bonappetit.com/recipe/salmon-rice-bowl-with-green-curry-creamed-spinach-recipe',\n",
       " 'https://cooking.nytimes.com/recipes/1022768-gingerbread-biscotti',\n",
       " 'https://www.epicurious.com/recipes/food/views/inside-out-german-chocolate-cake-103202',\n",
       " 'https://www.bonappetit.com/recipe/japanese-curry-with-winter-squash-and-mushrooms',\n",
       " 'https://www.bonappetit.com/recipe/crunchy-coconut-sesame-shrimp-with-spicy-lime-mayo',\n",
       " 'https://cooking.nytimes.com/recipes/1019221-vegetarian-shepherds-pie',\n",
       " 'https://www.bonappetit.com/recipe/bas-best-eggplant-parmesan',\n",
       " 'https://www.epicurious.com/recipes/food/views/hummingbird-cake',\n",
       " 'https://www.bonappetit.com/recipe/sea-dog',\n",
       " 'https://www.bonappetit.com/recipe/pastitsio',\n",
       " 'https://www.bonappetit.com/recipe/ba-best-lasagna',\n",
       " 'https://cooking.nytimes.com/recipes/1012445-fish-tacos',\n",
       " 'https://www.bonappetit.com/recipe/chicken-sausage-gumbo',\n",
       " 'https://www.bonappetit.com/recipe/samosa-tart-with-caramelized-onions-and-fontina',\n",
       " 'https://www.bonappetit.com/recipe/jerk-turkey-shepherds-pie',\n",
       " 'https://www.bonappetit.com/recipe/jumbo-lump-crab-cakes']"
      ]
     },
     "execution_count": 11,
     "metadata": {},
     "output_type": "execute_result"
    }
   ],
   "source": [
    "p = panTree(['flour'], pickled_recipeBank = './data/bank')\n",
    "p.process()\n",
    "p.rank"
   ]
  },
  {
   "cell_type": "code",
   "execution_count": 11,
   "id": "c982583f-3e01-42af-be81-d6502983cb61",
   "metadata": {},
   "outputs": [
    {
     "data": {
      "text/plain": [
       "<matplotlib.image.AxesImage at 0x7fb978b6b490>"
      ]
     },
     "execution_count": 11,
     "metadata": {},
     "output_type": "execute_result"
    },
    {
     "data": {
      "image/png": "[encoded data removed]",
      "text/plain": [
       "<Figure size 1200x800 with 1 Axes>"
      ]
     },
     "metadata": {
      "needs_background": "light"
     },
     "output_type": "display_data"
    }
   ],
   "source": [
    "import matplotlib.pyplot as plt\n",
    "import numpy as np\n",
    "import scipy.sparse\n",
    "plt.figure(dpi=200)\n",
    "plt.imshow(np.array(p.bank.data.tocsc().T*p.bank.data.tocsc().todense())/\\\n",
    "           (np.matrix(scipy.sparse.linalg.norm(p.bank.data,axis=0)).T*np.matrix(scipy.sparse.linalg.norm(p.bank.data,axis=0))))"
   ]
  },
  {
   "cell_type": "code",
   "execution_count": null,
   "id": "1b8240e6-b222-4769-8119-a5c568e0247f",
   "metadata": {},
   "outputs": [],
   "source": []
  }
 ],
 "metadata": {
  "kernelspec": {
   "display_name": "Python 3 (ipykernel)",
   "language": "python",
   "name": "python3"
  },
  "language_info": {
   "codemirror_mode": {
    "name": "ipython",
    "version": 3
   },
   "file_extension": ".py",
   "mimetype": "text/x-python",
   "name": "python",
   "nbconvert_exporter": "python",
   "pygments_lexer": "ipython3",
   "version": "3.9.7"
  }
 },
 "nbformat": 4,
 "nbformat_minor": 5
}
