{
 "cells": [
  {
   "cell_type": "code",
   "execution_count": 7,
   "id": "e8df9b9b-8fc3-4cbc-8028-17aa7b50a856",
   "metadata": {},
   "outputs": [],
   "source": [
    "from pantree.panTree import panTree\n",
    "from pantree.recipe import recipeDB\n",
    "\n",
    "from pantree.domains.ba import bonAppetit\n",
    "from pantree.domains.epi import epicurious\n",
    "from pantree.domains.nyt import NYT\n",
    "from pantree.domains.srs_eats import srsEats\n",
    "from pantree.domains.food_network import foodNetwork\n",
    "from pantree.domains.all_recipes import allRecipes\n",
    "from pantree.domains.food52 import food52"
   ]
  },
  {
   "cell_type": "code",
   "execution_count": 8,
   "id": "959cf4f4-5e7c-4343-908d-3630470ec465",
   "metadata": {},
   "outputs": [],
   "source": [
    "db = './data/recipeDB.db'"
   ]
  },
  {
   "cell_type": "code",
   "execution_count": 9,
   "id": "cba7f684-cf5e-4541-a657-214fd3eda0ea",
   "metadata": {},
   "outputs": [],
   "source": [
    "r = recipeDB(db)\n",
    "# r.create_table()\n",
    "# r.clear()\n",
    "# r.save()\n",
    "# r.close()"
   ]
  },
  {
   "cell_type": "code",
   "execution_count": 6,
   "id": "12aa493f-8b8f-4c8b-a57a-7184060927ae",
   "metadata": {
    "tags": []
   },
   "outputs": [],
   "source": [
    "ings = r.get_ingredients()\n",
    "with open('./ings.txt','w+') as f:\n",
    "    f.write(\"[\")\n",
    "    for ing in ings:\n",
    "        f.write('\"%s\",'%ing)\n",
    "    f.write(\"]\")"
   ]
  },
  {
   "cell_type": "code",
   "execution_count": 9,
   "id": "5803f060-3b65-4823-ad8e-76d0ae746cda",
   "metadata": {
    "collapsed": true,
    "jupyter": {
     "outputs_hidden": true
    },
    "tags": []
   },
   "outputs": [
    {
     "data": {
      "text/plain": [
       "7095"
      ]
     },
     "execution_count": 9,
     "metadata": {},
     "output_type": "execute_result"
    }
   ],
   "source": [
    "r.count()"
   ]
  },
  {
   "cell_type": "code",
   "execution_count": 10,
   "id": "2dd457b9-a48a-497a-9b60-d490fc06b420",
   "metadata": {},
   "outputs": [
    {
     "name": "stdout",
     "output_type": "stream",
     "text": [
      "<pantree.domains.food52.food52 object at 0x7f79ea56ee80> 7261\n"
     ]
    }
   ],
   "source": [
    "domains =[food52(db)]\n",
    "for d in domains:\n",
    "    d.scrape(depth = 3)\n",
    "    print(d, r.count())"
   ]
  },
  {
   "cell_type": "code",
   "execution_count": null,
   "id": "d02843af-66fe-4d27-b0e4-f4c791852c9e",
   "metadata": {},
   "outputs": [],
   "source": [
    "# p = panTree(['carrot'], ['sugar'] ,db=db)\n",
    "# p.rank"
   ]
  }
 ],
 "metadata": {
  "kernelspec": {
   "display_name": "Python 3 (ipykernel)",
   "language": "python",
   "name": "python3"
  },
  "language_info": {
   "codemirror_mode": {
    "name": "ipython",
    "version": 3
   },
   "file_extension": ".py",
   "mimetype": "text/x-python",
   "name": "python",
   "nbconvert_exporter": "python",
   "pygments_lexer": "ipython3",
   "version": "3.9.7"
  }
 },
 "nbformat": 4,
 "nbformat_minor": 5
}
