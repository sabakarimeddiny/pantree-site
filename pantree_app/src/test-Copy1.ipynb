{
 "cells": [
  {
   "cell_type": "code",
   "execution_count": 4,
   "id": "a3ab15dd-b062-41aa-970e-fb84f68d0b5f",
   "metadata": {},
   "outputs": [],
   "source": [
    "import re\n",
    "import spellfix_load\n",
    "import sqlite3\n",
    "import sys\n",
    "\n",
    "class FTS4SpellfixSearch(object):\n",
    "    def __init__(self, conn):#, spellfix1_path):\n",
    "        self.conn = conn\n",
    "        self.conn.enable_load_extension(True)\n",
    "        self.conn.load_extension(spellfix_load.extension_path())\n",
    "\n",
    "    def create_schema(self):\n",
    "        self.conn.executescript(\n",
    "            \"\"\"\n",
    "            CREATE VIRTUAL TABLE IF NOT EXISTS fts4data\n",
    "                USING fts4(description text);\n",
    "            CREATE VIRTUAL TABLE IF NOT EXISTS fts4data_terms\n",
    "                USING fts4aux(fts4data);\n",
    "            CREATE VIRTUAL TABLE IF NOT EXISTS spellfix1data\n",
    "                USING spellfix1;\n",
    "            \"\"\"\n",
    "        )\n",
    "\n",
    "    def index_text(self, *text):\n",
    "        cursor = self.conn.cursor()\n",
    "        with self.conn:\n",
    "            params = ((t,) for t in text)\n",
    "            cursor.executemany(\"INSERT INTO fts4data VALUES (?)\", params)\n",
    "            cursor.execute(\n",
    "                \"\"\"\n",
    "                INSERT INTO spellfix1data(word)\n",
    "                SELECT term FROM fts4data_terms\n",
    "                WHERE col='*' AND\n",
    "                    term not in (SELECT word from spellfix1data_vocab)\n",
    "                \"\"\"\n",
    "            )\n",
    "\n",
    "    # fts3 / 4 search expression tokenizer\n",
    "    # no attempt is made to validate the expression, only\n",
    "    # to identify valid search terms and extract them.\n",
    "    # the fts3/4 tokenizer considers any alphanumeric ASCII character\n",
    "    # and character in the range U+0080 and over to be terms.\n",
    "    if sys.maxunicode == 0xFFFF:\n",
    "        # UCS2 build, keep it simple, match any UTF-16 codepoint 0080 and over\n",
    "        _fts4_expr_terms = re.compile(u\"[a-zA-Z0-9\\u0080-\\uffff]+\")\n",
    "    else:\n",
    "        # UCS4\n",
    "        _fts4_expr_terms = re.compile(u\"[a-zA-Z0-9\\u0080-\\U0010FFFF]+\")\n",
    "\n",
    "    def _terms_from_query(self, search_query):\n",
    "        \"\"\"Extract search terms from a fts3/4 query\n",
    "\n",
    "        Returns a list of terms and a template such that\n",
    "        template.format(*terms) reconstructs the original query.\n",
    "\n",
    "        terms using partial* syntax are ignored, as you can't distinguish\n",
    "        between a misspelled prefix search that happens to match existing\n",
    "        tokens and a valid spelling that happens to have 'near' tokens in\n",
    "        the spellfix1 database that would not otherwise be matched by fts4\n",
    "\n",
    "        \"\"\"\n",
    "        template, terms, lastpos = [], [], 0\n",
    "        for match in self._fts4_expr_terms.finditer(search_query):\n",
    "            token, (start, end) = match.group(), match.span()\n",
    "            # skip columnname: and partial* terms by checking next character\n",
    "            ismeta = search_query[end:end + 1] in {\":\", \"*\"}\n",
    "            # skip digits if preceded by \"NEAR/\"\n",
    "            ismeta = ismeta or (\n",
    "                token.isdigit() and template and template[-1] == \"NEAR\"\n",
    "                and \"/\" in search_query[lastpos:start])\n",
    "            if token not in {\"AND\", \"OR\", \"NOT\", \"NEAR\"} and not ismeta:\n",
    "                # full search term, not a keyword, column name or partial*\n",
    "                terms.append(token)\n",
    "                token = \"{}\"\n",
    "            template += search_query[lastpos:start], token\n",
    "            lastpos = end\n",
    "        template.append(search_query[lastpos:])\n",
    "        return terms, \"\".join(template)\n",
    "\n",
    "    def spellcheck_terms(self, search_query):\n",
    "        cursor = self.conn.cursor()\n",
    "        base_spellfix = \"\"\"\n",
    "            SELECT :term{0} as term, word FROM spellfix1data\n",
    "            WHERE word MATCH :term{0} and top=1\n",
    "        \"\"\"\n",
    "        terms, template = self._terms_from_query(search_query)\n",
    "        params = {\"term{}\".format(i): t for i, t in enumerate(terms, 1)}\n",
    "        query = \" UNION \".join(\n",
    "            [base_spellfix.format(i + 1) for i in range(len(params))]\n",
    "        )\n",
    "        cursor.execute(query, params)\n",
    "        correction_map = dict(cursor)\n",
    "        return template.format(*(correction_map.get(t, t) for t in terms))\n",
    "\n",
    "    def search(self, search_query):\n",
    "        corrected_query = self.spellcheck_terms(search_query)\n",
    "        cursor = self.conn.cursor()\n",
    "        fts_query = \"SELECT * FROM fts4data WHERE fts4data MATCH ?\"\n",
    "        cursor.execute(fts_query, (corrected_query,))\n",
    "        return {\n",
    "            \"terms\": search_query,\n",
    "            \"corrected\": corrected_query,\n",
    "            \"results\": cursor.fetchall(),\n",
    "        }\n"
   ]
  },
  {
   "cell_type": "code",
   "execution_count": 20,
   "id": "e33aadaf-d8ec-49e1-b485-61172932843a",
   "metadata": {},
   "outputs": [],
   "source": [
    "db = sqlite3.connect('./spellfix')\n",
    "fts = FTS4SpellfixSearch(db)"
   ]
  },
  {
   "cell_type": "code",
   "execution_count": 21,
   "id": "1c64e572-bac1-4f5d-9630-b19ea0f22c5a",
   "metadata": {},
   "outputs": [],
   "source": [
    "fts.create_schema()"
   ]
  },
  {
   "cell_type": "code",
   "execution_count": 29,
   "id": "a10641c4-c15f-4c8e-9870-5427ca82fb2a",
   "metadata": {},
   "outputs": [
    {
     "data": {
      "text/plain": [
       "'lemen'"
      ]
     },
     "execution_count": 29,
     "metadata": {},
     "output_type": "execute_result"
    }
   ],
   "source": [
    "fts.spellcheck_terms('lemen')"
   ]
  },
  {
   "cell_type": "code",
   "execution_count": 28,
   "id": "e98b14f0-e233-4218-8726-e0b0fc11cf51",
   "metadata": {},
   "outputs": [],
   "source": [
    "fts.index_text(\"lemen\")  # your example"
   ]
  },
  {
   "cell_type": "code",
   "execution_count": 32,
   "id": "5d7fc9a7-1b01-4a87-85d2-07f943866a45",
   "metadata": {},
   "outputs": [
    {
     "data": {
      "text/plain": [
       "{'terms': 'lemon',\n",
       " 'corrected': 'lemon',\n",
       " 'results': [('lemon',), ('lemon',), ('lemon',), ('lemon',), ('lemon',)]}"
      ]
     },
     "execution_count": 32,
     "metadata": {},
     "output_type": "execute_result"
    }
   ],
   "source": [
    "fts.search('lemon')"
   ]
  },
  {
   "cell_type": "code",
   "execution_count": 10,
   "id": "4f1187a8-00db-4ef6-bc7d-c10e8952ab93",
   "metadata": {},
   "outputs": [],
   "source": [
    "fts.index_text(\n",
    "...     \"They are great\",\n",
    "...     \"Here some other numbers\",\n",
    "... )"
   ]
  },
  {
   "cell_type": "code",
   "execution_count": 11,
   "id": "4bcbccc5-cbd7-4519-a88f-7e75ee2b5d65",
   "metadata": {},
   "outputs": [
    {
     "name": "stdout",
     "output_type": "stream",
     "text": [
      "{'corrected': 'here some',\n",
      " 'results': [('Here some other numbers',)],\n",
      " 'terms': 'here some'}\n"
     ]
    }
   ],
   "source": [
    "pprint(fts.search('here some'))"
   ]
  },
  {
   "cell_type": "code",
   "execution_count": null,
   "id": "351207f2-97bb-4ac5-95c3-8fb600afb6af",
   "metadata": {},
   "outputs": [],
   "source": []
  }
 ],
 "metadata": {
  "kernelspec": {
   "display_name": "Python 3 (ipykernel)",
   "language": "python",
   "name": "python3"
  },
  "language_info": {
   "codemirror_mode": {
    "name": "ipython",
    "version": 3
   },
   "file_extension": ".py",
   "mimetype": "text/x-python",
   "name": "python",
   "nbconvert_exporter": "python",
   "pygments_lexer": "ipython3",
   "version": "3.9.7"
  }
 },
 "nbformat": 4,
 "nbformat_minor": 5
}
