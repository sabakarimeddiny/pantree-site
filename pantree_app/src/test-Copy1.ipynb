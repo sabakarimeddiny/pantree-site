{
 "cells": [
  {
   "cell_type": "code",
   "execution_count": 2,
   "id": "e8df9b9b-8fc3-4cbc-8028-17aa7b50a856",
   "metadata": {},
   "outputs": [],
   "source": [
    "from pantree.panTree import panTree\n",
    "from pantree.recipe import recipeDB\n",
    "\n",
    "from pantree.domains.ba import bonAppetit\n",
    "from pantree.domains.epi import epicurious\n",
    "from pantree.domains.nyt import NYT\n",
    "from pantree.domains.srs_eats import srsEats\n",
    "from pantree.domains.food_network import foodNetwork\n",
    "from pantree.domains.all_recipes import allRecipes\n",
    "from pantree.domains.food52 import food52"
   ]
  },
  {
   "cell_type": "code",
   "execution_count": 2,
   "id": "959cf4f4-5e7c-4343-908d-3630470ec465",
   "metadata": {},
   "outputs": [],
   "source": [
    "db = './data/recipeDB.db'"
   ]
  },
  {
   "cell_type": "code",
   "execution_count": 37,
   "id": "cba7f684-cf5e-4541-a657-214fd3eda0ea",
   "metadata": {},
   "outputs": [
    {
     "data": {
      "text/plain": [
       "3121"
      ]
     },
     "execution_count": 37,
     "metadata": {},
     "output_type": "execute_result"
    }
   ],
   "source": [
    "r = recipeDB(db)\n",
    "r.count()"
   ]
  },
  {
   "cell_type": "code",
   "execution_count": 76,
   "id": "b28353cd-d0e4-42f0-92aa-cb54624acc70",
   "metadata": {},
   "outputs": [
    {
     "ename": "OperationalError",
     "evalue": "unable to use function MATCH in the requested context",
     "output_type": "error",
     "traceback": [
      "\u001b[0;31m---------------------------------------------------------------------------\u001b[0m",
      "\u001b[0;31mOperationalError\u001b[0m                          Traceback (most recent call last)",
      "\u001b[0;32m/var/folders/c3/9y335k5s08sdzh29h22cmxhm0000gn/T/ipykernel_67472/1829117249.py\u001b[0m in \u001b[0;36m<module>\u001b[0;34m\u001b[0m\n\u001b[1;32m      1\u001b[0m \u001b[0mq\u001b[0m \u001b[0;34m=\u001b[0m \u001b[0;34m'*flour,*'\u001b[0m\u001b[0;34m\u001b[0m\u001b[0;34m\u001b[0m\u001b[0m\n\u001b[1;32m      2\u001b[0m \u001b[0;34m\u001b[0m\u001b[0m\n\u001b[0;32m----> 3\u001b[0;31m res = r.cur.execute(f\"\"\"select *, ingredients\n\u001b[0m\u001b[1;32m      4\u001b[0m                           \u001b[0;32mfrom\u001b[0m \u001b[0mrecipes\u001b[0m\u001b[0;34m\u001b[0m\u001b[0;34m\u001b[0m\u001b[0m\n\u001b[1;32m      5\u001b[0m                           \u001b[0mwhere\u001b[0m \u001b[0mingredients\u001b[0m \u001b[0mMATCH\u001b[0m \u001b[0;34m\"{q}\"\u001b[0m\u001b[0;34m\u001b[0m\u001b[0;34m\u001b[0m\u001b[0m\n",
      "\u001b[0;31mOperationalError\u001b[0m: unable to use function MATCH in the requested context"
     ]
    }
   ],
   "source": [
    "q = '*flour,*'\n",
    " \n",
    "res = r.cur.execute(f\"\"\"select *, ingredients\n",
    "                          from recipes\n",
    "                          where ingredients MATCH \"{q}\"\n",
    "                          ORDER BY ingredients\n",
    "                          limit 5\"\"\").fetchall()"
   ]
  },
  {
   "cell_type": "code",
   "execution_count": 77,
   "id": "1b8240e6-b222-4769-8119-a5c568e0247f",
   "metadata": {},
   "outputs": [],
   "source": [
    "# for row in r.cur.execute(\"SELECT ingredients FROM recipes WHERE (ingredients LIKE '%flour,%' AND ingredients LIKE '%,%') \\\n",
    "#                           AND (ingredients LIKE '%baking powder,%' OR ingredients LIKE '%flour,%') \"):\n",
    "#     print(row)"
   ]
  },
  {
   "cell_type": "code",
   "execution_count": 81,
   "id": "e33ea425-c6d9-4103-9699-62380af4ee71",
   "metadata": {},
   "outputs": [],
   "source": [
    "import sqlite3\n",
    "db = './example.db'\n",
    "con = sqlite3.connect(db)\n",
    "cur = con.cursor()"
   ]
  },
  {
   "cell_type": "code",
   "execution_count": 82,
   "id": "da667c35-475d-493f-b89b-326dbfe21ae3",
   "metadata": {},
   "outputs": [
    {
     "data": {
      "text/plain": [
       "<sqlite3.Cursor at 0x7fa4e8516960>"
      ]
     },
     "execution_count": 82,
     "metadata": {},
     "output_type": "execute_result"
    }
   ],
   "source": [
    "cur.execute(\"CREATE VIRTUAL TABLE posts USING FTS5(title, body)\")"
   ]
  },
  {
   "cell_type": "code",
   "execution_count": 83,
   "id": "327159a8-c884-4a9b-ac74-125ac496983c",
   "metadata": {},
   "outputs": [
    {
     "data": {
      "text/plain": [
       "<sqlite3.Cursor at 0x7fa4e8516960>"
      ]
     },
     "execution_count": 83,
     "metadata": {},
     "output_type": "execute_result"
    }
   ],
   "source": [
    "cur.execute(\"INSERT INTO posts(title,body) \\\n",
    "             VALUES('Learn SQlite FTS5','This tutorial teaches you how to perform full-text search in SQLite using FTS5'), \\\n",
    "                   ('Advanced SQlite Full-text Search','Show you some advanced techniques in SQLite full-text searching'), \\\n",
    "                   ('SQLite Tutorial','Help you learn SQLite quickly and effectively')\" )"
   ]
  },
  {
   "cell_type": "code",
   "execution_count": 85,
   "id": "e4c65c74-9c86-40ac-9e9a-0069f350e0d9",
   "metadata": {},
   "outputs": [
    {
     "data": {
      "text/plain": [
       "[('Learn SQlite FTS5',\n",
       "  'This tutorial teaches you how to perform full-text search in SQLite using FTS5'),\n",
       " ('Advanced SQlite Full-text Search',\n",
       "  'Show you some advanced techniques in SQLite full-text searching'),\n",
       " ('SQLite Tutorial', 'Help you learn SQLite quickly and effectively')]"
      ]
     },
     "execution_count": 85,
     "metadata": {},
     "output_type": "execute_result"
    }
   ],
   "source": [
    "cur.execute(\"SELECT * FROM posts\").fetchall()"
   ]
  },
  {
   "cell_type": "code",
   "execution_count": 87,
   "id": "c16f2313-59ea-4454-9169-de421fd33428",
   "metadata": {},
   "outputs": [
    {
     "data": {
      "text/plain": [
       "[('Learn SQlite FTS5',\n",
       "  'This tutorial teaches you how to perform full-text search in SQLite using FTS5')]"
      ]
     },
     "execution_count": 87,
     "metadata": {},
     "output_type": "execute_result"
    }
   ],
   "source": [
    "cur.execute(\"SELECT * FROM posts WHERE posts MATCH 'fts5'\").fetchall()"
   ]
  },
  {
   "cell_type": "code",
   "execution_count": 104,
   "id": "f8c153fd-8d42-4e5f-b167-6ada6abfc919",
   "metadata": {},
   "outputs": [
    {
     "data": {
      "text/plain": [
       "[('SQLite Tutorial', 'Help you learn SQLite quickly and effectively'),\n",
       " ('Learn SQlite FTS5',\n",
       "  'This tutorial teaches you how to perform full-text search in SQLite using FTS5')]"
      ]
     },
     "execution_count": 104,
     "metadata": {},
     "output_type": "execute_result"
    }
   ],
   "source": [
    "cur.execute(\"SELECT * FROM posts WHERE posts MATCH 'learn' ORDER BY bm25(posts)\").fetchall()"
   ]
  },
  {
   "cell_type": "code",
   "execution_count": 103,
   "id": "edc6b984-04f2-4ea4-80f5-74cc94396b44",
   "metadata": {},
   "outputs": [
    {
     "ename": "OperationalError",
     "evalue": "unable to use function MATCH in the requested context",
     "output_type": "error",
     "traceback": [
      "\u001b[0;31m---------------------------------------------------------------------------\u001b[0m",
      "\u001b[0;31mOperationalError\u001b[0m                          Traceback (most recent call last)",
      "\u001b[0;32m/var/folders/c3/9y335k5s08sdzh29h22cmxhm0000gn/T/ipykernel_67472/1578786990.py\u001b[0m in \u001b[0;36m<module>\u001b[0;34m\u001b[0m\n\u001b[0;32m----> 1\u001b[0;31m \u001b[0mr\u001b[0m\u001b[0;34m.\u001b[0m\u001b[0mcur\u001b[0m\u001b[0;34m.\u001b[0m\u001b[0mexecute\u001b[0m\u001b[0;34m(\u001b[0m\u001b[0;34m\"SELECT * FROM recipes WHERE ingredients MATCH 'learn' ORDER BY bm25(ingredients)\"\u001b[0m\u001b[0;34m)\u001b[0m\u001b[0;34m.\u001b[0m\u001b[0mfetchall\u001b[0m\u001b[0;34m(\u001b[0m\u001b[0;34m)\u001b[0m\u001b[0;34m\u001b[0m\u001b[0;34m\u001b[0m\u001b[0m\n\u001b[0m",
      "\u001b[0;31mOperationalError\u001b[0m: unable to use function MATCH in the requested context"
     ]
    }
   ],
   "source": [
    "r.cur.execute(\"SELECT * FROM recipes WHERE ingredients MATCH 'learn' ORDER BY bm25(ingredients)\").fetchall()"
   ]
  },
  {
   "cell_type": "code",
   "execution_count": 3,
   "id": "6d42cffd-d973-45ed-9552-c1b1e3b83032",
   "metadata": {},
   "outputs": [],
   "source": [
    "db = './example.db'\n",
    "r = recipeDB(db)"
   ]
  },
  {
   "cell_type": "code",
   "execution_count": 4,
   "id": "3ddcdab6-0e64-48b3-808c-b114cd3b4316",
   "metadata": {},
   "outputs": [
    {
     "data": {
      "text/plain": [
       "12"
      ]
     },
     "execution_count": 4,
     "metadata": {},
     "output_type": "execute_result"
    }
   ],
   "source": [
    "r.count()"
   ]
  },
  {
   "cell_type": "code",
   "execution_count": 114,
   "id": "12e0be9e-48b0-45ac-ba68-02d8ded6e911",
   "metadata": {},
   "outputs": [],
   "source": [
    "# r.cur.execute(\"CREATE VIRTUAL TABLE recipes USING FTS5(title, time, url, ingredients)\")"
   ]
  },
  {
   "cell_type": "code",
   "execution_count": 113,
   "id": "4e5b6dfc-549f-448f-b57f-f56bb0ec844d",
   "metadata": {},
   "outputs": [],
   "source": [
    "# domains =[food52(db)]\n",
    "# for d in domains:\n",
    "#     d.scrape(depth = 0)\n",
    "#     print(d, r.count())"
   ]
  },
  {
   "cell_type": "code",
   "execution_count": 8,
   "id": "44b25eb1-1493-436e-956c-c5429d534b18",
   "metadata": {},
   "outputs": [
    {
     "data": {
      "text/plain": [
       "<sqlite3.Cursor at 0x7f93985b03b0>"
      ]
     },
     "execution_count": 8,
     "metadata": {},
     "output_type": "execute_result"
    }
   ],
   "source": [
    "r.cur.execute(\"SELECT * FROM recipes WHERE ingredients MATCH 'flour' ORDER BY bm25(recipes)\")"
   ]
  },
  {
   "cell_type": "code",
   "execution_count": 21,
   "id": "518bf09f-6563-4c7d-87a7-2271e7bf1e0b",
   "metadata": {},
   "outputs": [
    {
     "data": {
      "text/plain": [
       "[('Blueberry-Thyme Yogurt Cake from Dorie Greenspan',\n",
       "  0,\n",
       "  'https://food52.com/recipes/88094-blueberry-thyme-yogurt-cake-from-dorie-greenspan',\n",
       "  'yogurt,salt,baking powder,lemon,canola,egg,olive oil,blueberry,flour,sugar,thyme,butter,oil'),\n",
       " ('Strawberry Rhubarb Crumb Pie',\n",
       "  0,\n",
       "  'https://food52.com/recipes/88032-strawberry-rhubarb-crumb-pie',\n",
       "  'filling,rhubarb,vanilla bean paste,salt,dark brown sugar,baking powder,oat,cinnamon,ice water,granulated sugar,dough,nutmeg,flour,strawberry,butter'),\n",
       " ('Lemon Pepper Wings From Will Coleman',\n",
       "  0,\n",
       "  'https://food52.com/recipes/88016-crispy-lemon-pepper-chicken-wings',\n",
       "  'hot sauce,light brown sugar,vegetable oil,paprika,lemon,egg,kosher salt,black pepper,msg,garlic,chicken wing,flour,onion'),\n",
       " ('Spicy Celery Margarita',\n",
       "  0,\n",
       "  'https://food52.com/recipes/88059-spicy-celery-margarita',\n",
       "  'tequila,chili,water,granulated sugar,celery,lime juice,kosher salt,celery margarita,lime'),\n",
       " ('No-Bake Orange Cream Pie With a Pretzel Crust',\n",
       "  0,\n",
       "  'https://food52.com/recipes/87914-no-bake-orange-cream-pie-recipe',\n",
       "  'light brown sugar,whipped cream,filling,vanilla extract,lemon juice,pretzel crumb,heavy cream,cream cheese,kosher salt,powdered sugar,orange zest,orange juice,butter')]"
      ]
     },
     "execution_count": 21,
     "metadata": {},
     "output_type": "execute_result"
    }
   ],
   "source": [
    "r.cur.execute(\"SELECT * FROM recipes WHERE ingredients MATCH '(flour OR salt) AND sugar' ORDER BY bm25(recipes)\").fetchall()"
   ]
  },
  {
   "cell_type": "code",
   "execution_count": null,
   "id": "eac5a1ae-3342-42bf-9eef-c252903f061e",
   "metadata": {},
   "outputs": [],
   "source": []
  }
 ],
 "metadata": {
  "kernelspec": {
   "display_name": "Python 3 (ipykernel)",
   "language": "python",
   "name": "python3"
  },
  "language_info": {
   "codemirror_mode": {
    "name": "ipython",
    "version": 3
   },
   "file_extension": ".py",
   "mimetype": "text/x-python",
   "name": "python",
   "nbconvert_exporter": "python",
   "pygments_lexer": "ipython3",
   "version": "3.9.7"
  }
 },
 "nbformat": 4,
 "nbformat_minor": 5
}
